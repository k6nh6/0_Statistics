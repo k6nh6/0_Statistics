{
 "cells": [
  {
   "cell_type": "code",
   "execution_count": 6,
   "id": "2f5914fe",
   "metadata": {},
   "outputs": [
    {
     "name": "stdout",
     "output_type": "stream",
     "text": [
      "Overwriting .gitignore\n"
     ]
    }
   ],
   "source": [
    "%%writefile .gitignore\n",
    ".ipynb_checkpoints/\n",
    "__pycache__/\n",
    "*.pyc\n",
    "*.ipynb.meta"
   ]
  },
  {
   "cell_type": "code",
   "execution_count": 9,
   "id": "f0fc28a4",
   "metadata": {},
   "outputs": [
    {
     "name": "stdout",
     "output_type": "stream",
     "text": [
      "fatal: pathspec 'Linear' did not match any files\n",
      "On branch main\n",
      "\n",
      "Initial commit\n",
      "\n",
      "Untracked files:\n",
      "  (use \"git add <file>...\" to include in what will be committed)\n",
      "\t\u001b[31m.gitignore\u001b[m\n",
      "\t\u001b[31mDay1.ipynb\u001b[m\n",
      "\t\u001b[31mLinear Regresssion.ipynb\u001b[m\n",
      "\t\u001b[31mUntitled.ipynb\u001b[m\n",
      "\n",
      "nothing added to commit but untracked files present (use \"git add\" to track)\n"
     ]
    }
   ],
   "source": [
    "!git add Linear Regresssion.ipynb\n",
    "!git commit -m \"Add Jupyter Notebook: your_notebook.ipynb\"\n"
   ]
  },
  {
   "cell_type": "code",
   "execution_count": 4,
   "id": "1fd86668",
   "metadata": {},
   "outputs": [
    {
     "name": "stdout",
     "output_type": "stream",
     "text": [
      "Predictive Value [4.]\n"
     ]
    }
   ],
   "source": [
    "import numpy as np\n",
    "from sklearn.linear_model import LinearRegression\n",
    "\n",
    "x=np.array([[1],[2],[3]])\n",
    "y=np.array([[1],[2],[3]])\n",
    "\n",
    "model=LinearRegression()\n",
    "model.fit(x,y)\n",
    "\n",
    "#Predict\n",
    "x_new=np.array([[4]])\n",
    "y_pred= model.predict(x_new)\n",
    "print(\"Predictive Value\", y_pred[0])"
   ]
  },
  {
   "cell_type": "code",
   "execution_count": 13,
   "id": "07d55934",
   "metadata": {},
   "outputs": [],
   "source": [
    "\n",
    "!git add Day1.ipynb"
   ]
  },
  {
   "cell_type": "code",
   "execution_count": 57,
   "id": "64629348",
   "metadata": {},
   "outputs": [
    {
     "name": "stdout",
     "output_type": "stream",
     "text": [
      "error: remote origin already exists.\n",
      "On branch master\n",
      "\n",
      "No commits yet\n",
      "\n",
      "Changes to be committed:\n",
      "  (use \"git rm --cached <file>...\" to unstage)\n",
      "\t\u001b[32mnew file:   Day1.ipynb\u001b[m\n",
      "\n",
      "Untracked files:\n",
      "  (use \"git add <file>...\" to include in what will be committed)\n",
      "\t\u001b[31m.gitignore\u001b[m\n",
      "\t\u001b[31mLinear Regresssion.ipynb\u001b[m\n",
      "\t\u001b[31mUntitled.ipynb\u001b[m\n",
      "\n"
     ]
    }
   ],
   "source": [
    "!git remote add origin https://github.com/k6nh6/0_Statistics.git\n",
    "!git branch\n",
    "!git fetch origin\n",
    "!git status\n",
    "!git "
   ]
  },
  {
   "cell_type": "code",
   "execution_count": 48,
   "id": "f455c40a",
   "metadata": {},
   "outputs": [],
   "source": [
    "!git branch -M master"
   ]
  },
  {
   "cell_type": "code",
   "execution_count": 51,
   "id": "e86460ff",
   "metadata": {},
   "outputs": [],
   "source": [
    "#!git push origin main\n",
    "#!git branch -M master\n",
    "#!git status\n",
    "#!git remote add origin https://github.com/k6nh6/0_Statistics.git\n",
    "\n",
    "#!git remote show origin\n",
    "!git fetch origin\n",
    "\n",
    "\n"
   ]
  },
  {
   "cell_type": "code",
   "execution_count": 53,
   "id": "471ce336",
   "metadata": {},
   "outputs": [],
   "source": [
    "!git branch\n"
   ]
  },
  {
   "cell_type": "code",
   "execution_count": 1,
   "id": "d4b8c659",
   "metadata": {},
   "outputs": [
    {
     "data": {
      "image/png": "[encoded data removed]",
      "text/plain": [
       "<Figure size 640x480 with 1 Axes>"
      ]
     },
     "metadata": {},
     "output_type": "display_data"
    },
    {
     "name": "stdout",
     "output_type": "stream",
     "text": [
      "[4.]\n"
     ]
    }
   ],
   "source": [
    "import numpy as np\n",
    "import matplotlib.pyplot as plt\n",
    "from sklearn.linear_model import LinearRegression\n",
    "\n",
    "# Data\n",
    "x = np.array([[1], [2], [3]])\n",
    "y = np.array([[1], [2], [3]])\n",
    "\n",
    "# Create and fit the model\n",
    "model = LinearRegression()\n",
    "model.fit(x, y)\n",
    "\n",
    "# Predict\n",
    "x_new = np.array([[4]])\n",
    "y_pred = model.predict(x_new)[0]\n",
    "\n",
    "# Plotting the data points\n",
    "plt.scatter(x, y, color='blue', label='Data Points')\n",
    "\n",
    "# Plotting the regression line\n",
    "x_range = np.linspace(min(x), max(x), 100).reshape(-1, 1)\n",
    "y_range = model.predict(x_range)\n",
    "plt.plot(x_range, y_range, color='red', label='Linear Regression')\n",
    "\n",
    "# Highlight the predicted value\n",
    "plt.scatter(x_new, y_pred, color='green', label='Predicted Value')\n",
    "\n",
    "# Adding labels and legend\n",
    "plt.title('Linear Regression Plot')\n",
    "plt.xlabel('X')\n",
    "plt.ylabel('Y')\n",
    "plt.legend()\n",
    "\n",
    "# Show the plot\n",
    "plt.show()\n",
    "print(y_pred)"
   ]
  }
 ],
 "metadata": {
  "kernelspec": {
   "display_name": "Python 3 (ipykernel)",
   "language": "python",
   "name": "python3"
  },
  "language_info": {
   "codemirror_mode": {
    "name": "ipython",
    "version": 3
   },
   "file_extension": ".py",
   "mimetype": "text/x-python",
   "name": "python",
   "nbconvert_exporter": "python",
   "pygments_lexer": "ipython3",
   "version": "3.10.9"
  }
 },
 "nbformat": 4,
 "nbformat_minor": 5
}
